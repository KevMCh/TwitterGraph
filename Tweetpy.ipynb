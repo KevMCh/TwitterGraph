{
  "nbformat": 4,
  "nbformat_minor": 0,
  "metadata": {
    "colab": {
      "name": "Tweetpy.ipynb",
      "provenance": [],
      "collapsed_sections": [],
      "authorship_tag": "ABX9TyNnJsRKXQNVxzte06NqYAqE"
    },
    "kernelspec": {
      "name": "python3",
      "display_name": "Python 3"
    },
    "language_info": {
      "name": "python"
    }
  },
  "cells": [
    {
      "cell_type": "code",
      "source": [
        "!pip install tweepy --upgrade"
      ],
      "metadata": {
        "id": "zZHcFvRM8FsO"
      },
      "execution_count": null,
      "outputs": []
    },
    {
      "cell_type": "code",
      "source": [
        "import tweepy"
      ],
      "metadata": {
        "id": "W4J2x3du5T3Z"
      },
      "execution_count": null,
      "outputs": []
    },
    {
      "cell_type": "code",
      "source": [
        "bearer_token = \"\"\n",
        "\n",
        "consumer_key = \"\"\n",
        "consumer_secret = \"\"\n",
        "\n",
        "access_token = \"\"\n",
        "access_token_secret = \"\""
      ],
      "metadata": {
        "id": "ieeasQnbyytW"
      },
      "execution_count": null,
      "outputs": []
    },
    {
      "cell_type": "code",
      "source": [
        "client = tweepy.Client(bearer_token = bearer_token)\n",
        "\n",
        "'''\n",
        "client = tweepy.Client(\n",
        "    consumer_key=consumer_key, consumer_secret=consumer_secret,\n",
        "    access_token=access_token, access_token_secret=access_token_secret\n",
        ")\n",
        "'''"
      ],
      "metadata": {
        "id": "yy2cQp5-IT1T"
      },
      "execution_count": null,
      "outputs": []
    },
    {
      "cell_type": "code",
      "source": [
        "userIDs = [2244994945, 6253282]\n",
        "\n",
        "response = client.get_users(ids = userIDs, user_fields = [\"profile_image_url\"])\n",
        "\n",
        "for user in response.data:\n",
        "    print(user.username, user.profile_image_url)\n",
        "  "
      ],
      "metadata": {
        "id": "JgbVUTnNt5wB"
      },
      "execution_count": null,
      "outputs": []
    },
    {
      "cell_type": "code",
      "source": [
        "usernameList = \"\"\n",
        "\n",
        "response = client.get_users(usernames = usernameList, user_fields = [\"profile_image_url\"])\n",
        "\n",
        "for user in response.data:\n",
        "    print(user.username, user.id, user.profile_image_url)"
      ],
      "metadata": {
        "id": "tjouqfOExUcM"
      },
      "execution_count": null,
      "outputs": []
    },
    {
      "cell_type": "code",
      "source": [
        "userID = \n",
        "\n",
        "response = client.get_users_followers(\n",
        "    userID, user_fields=[\"profile_image_url\"]\n",
        ")\n",
        "\n",
        "for user in response.data:\n",
        "    print(user.username, user.profile_image_url)"
      ],
      "metadata": {
        "id": "LmjB0Sfi0QCZ"
      },
      "execution_count": null,
      "outputs": []
    },
    {
      "cell_type": "code",
      "source": [
        "response = client.search_recent_tweets(\"Hii\")\n",
        "\n",
        "print(response.meta)\n",
        "\n",
        "tweets = response.data\n",
        "\n",
        "for tweet in tweets:\n",
        "    print(tweet.data)"
      ],
      "metadata": {
        "id": "11jJ9kBivWWp"
      },
      "execution_count": null,
      "outputs": []
    }
  ]
}