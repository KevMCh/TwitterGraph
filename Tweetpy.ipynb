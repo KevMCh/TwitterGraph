{
  "nbformat": 4,
  "nbformat_minor": 0,
  "metadata": {
    "colab": {
      "name": "Tweetpy.ipynb",
      "provenance": [],
      "collapsed_sections": [],
      "authorship_tag": "ABX9TyM/E7f+BYim0sH1fRdsPNQS"
    },
    "kernelspec": {
      "name": "python3",
      "display_name": "Python 3"
    },
    "language_info": {
      "name": "python"
    }
  },
  "cells": [
    {
      "cell_type": "code",
      "source": [
        "!pip install tweepy --upgrade"
      ],
      "metadata": {
        "id": "zZHcFvRM8FsO"
      },
      "execution_count": null,
      "outputs": []
    },
    {
      "cell_type": "code",
      "source": [
        "import time\n",
        "import random\n",
        "import tweepy\n",
        "import pandas as pd"
      ],
      "metadata": {
        "id": "W4J2x3du5T3Z"
      },
      "execution_count": null,
      "outputs": []
    },
    {
      "cell_type": "code",
      "source": [
        "bearer_token = \"\"\n",
        "\n",
        "consumer_key = \"\"\n",
        "consumer_secret = \"\"\n",
        "\n",
        "access_token = \"\"\n",
        "access_token_secret = \"\""
      ],
      "metadata": {
        "id": "ieeasQnbyytW"
      },
      "execution_count": null,
      "outputs": []
    },
    {
      "cell_type": "code",
      "source": [
        "client = tweepy.Client(bearer_token = bearer_token)\n",
        "\n",
        "'''\n",
        "client = tweepy.Client(\n",
        "    consumer_key=consumer_key, consumer_secret=consumer_secret,\n",
        "    access_token=access_token, access_token_secret=access_token_secret\n",
        ")\n",
        "'''"
      ],
      "metadata": {
        "id": "yy2cQp5-IT1T"
      },
      "execution_count": null,
      "outputs": []
    },
    {
      "cell_type": "code",
      "source": [
        "response = client.search_recent_tweets(\"\")\n",
        "\n",
        "print(response.meta)\n",
        "\n",
        "tweets = response.data\n",
        "\n",
        "for tweet in tweets:\n",
        "    print(tweet.data)"
      ],
      "metadata": {
        "id": "11jJ9kBivWWp"
      },
      "execution_count": null,
      "outputs": []
    },
    {
      "cell_type": "code",
      "source": [
        "userIDs = [2244994945, 6253282]\n",
        "\n",
        "response = client.get_users(ids = userIDs, user_fields = [\"profile_image_url\"])\n",
        "\n",
        "for user in response.data:\n",
        "    print(user.username, user.profile_image_url)\n",
        "  "
      ],
      "metadata": {
        "id": "JgbVUTnNt5wB"
      },
      "execution_count": null,
      "outputs": []
    },
    {
      "cell_type": "code",
      "source": [
        "usernameList = \"\"\n",
        "\n",
        "response = client.get_users(usernames = usernameList, user_fields = [\"profile_image_url\"])\n",
        "\n",
        "for user in response.data:\n",
        "    print(user.username, user.id, user.profile_image_url)"
      ],
      "metadata": {
        "id": "tjouqfOExUcM"
      },
      "execution_count": null,
      "outputs": []
    },
    {
      "cell_type": "code",
      "source": [
        "userID = \n",
        "\n",
        "response = client.get_users_followers(\n",
        "    userID, user_fields = [\"id\"]\n",
        ")\n",
        "\n",
        "for user in response.data:\n",
        "    print(user.username, user.profile_image_url)"
      ],
      "metadata": {
        "id": "LmjB0Sfi0QCZ"
      },
      "execution_count": null,
      "outputs": []
    },
    {
      "cell_type": "code",
      "source": [
        "main = dict()\n",
        "mainFollowerList = list()\n",
        "for index, user in enumerate(response.data):\n",
        "    if index <= 12:\n",
        "      print(str(index) + \": \" + user.username + \" (\" + str(user.id) + \")\")\n",
        "\n",
        "      mainFollowerList.append(user.username)\n",
        "\n",
        "      time.sleep(random.randint(1, 3))\n",
        "      \n",
        "      secondResponse = client.get_users_followers(\n",
        "          user.id, user_fields = [\"id\"]\n",
        "          )\n",
        "      \n",
        "      secondFollowerList = list()\n",
        "      \n",
        "      for userF in secondResponse.data:\n",
        "        secondFollowerList.append(userF.username)\n",
        "        \n",
        "      main[user.username] = secondFollowerList\n",
        "\n",
        "main[headUser.username] = mainFollowerList"
      ],
      "metadata": {
        "id": "Xh4YS9YGOJPP"
      },
      "execution_count": null,
      "outputs": []
    },
    {
      "cell_type": "code",
      "source": [
        "df = pd.DataFrame([main]).T\n",
        "df.columns = ['Followers']\n",
        "df"
      ],
      "metadata": {
        "id": "Q_3_5CpSOkUz"
      },
      "execution_count": null,
      "outputs": []
    },
    {
      "cell_type": "code",
      "source": [
        "dfConnection = df['Followers'].str.join('|').str.get_dummies()\n",
        "dfConnection"
      ],
      "metadata": {
        "id": "5sQy9o3SOzOI"
      },
      "execution_count": null,
      "outputs": []
    },
    {
      "cell_type": "code",
      "source": [
        "adjMatrixDF = dfConnection[dfConnection.index]\n",
        "adjMatrixDF"
      ],
      "metadata": {
        "id": "fDHMpmlbivuK"
      },
      "execution_count": null,
      "outputs": []
    },
    {
      "cell_type": "code",
      "source": [
        "fileContent = ';' + ';'.join(adjMatrixDF.columns) + '\\n'\n",
        "\n",
        "x = adjMatrixDF.to_string(header = False,\n",
        "                  index = False,\n",
        "                  index_names = False).split('\\n')\n",
        "vals = [';'.join(ele.split()) for ele in x]\n",
        "\n",
        "for i in range(len(adjMatrixDF.index)):\n",
        "  fileContent = fileContent + adjMatrixDF.index[i] + ';' + vals[i] + '\\n'"
      ],
      "metadata": {
        "id": "_byV5gT4pDA-"
      },
      "execution_count": null,
      "outputs": []
    },
    {
      "cell_type": "code",
      "source": [
        "outputFile = open(\"followers.csv\", \"w\")\n",
        "n = outputFile.write(fileContent)\n",
        "outputFile.close()"
      ],
      "metadata": {
        "id": "B9RhbwPdpEMf"
      },
      "execution_count": null,
      "outputs": []
    }
  ]
}