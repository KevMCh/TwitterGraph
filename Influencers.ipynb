{
  "nbformat": 4,
  "nbformat_minor": 0,
  "metadata": {
    "colab": {
      "name": "Influencers.ipynb",
      "provenance": [],
      "collapsed_sections": [],
      "authorship_tag": "ABX9TyObRyntxfT+rk/EFvc8f3Fh"
    },
    "kernelspec": {
      "name": "python3",
      "display_name": "Python 3"
    },
    "language_info": {
      "name": "python"
    }
  },
  "cells": [
    {
      "cell_type": "code",
      "source": [
        "!pip install tweepy --upgrade"
      ],
      "metadata": {
        "id": "zZHcFvRM8FsO",
        "colab": {
          "base_uri": "https://localhost:8080/"
        },
        "outputId": "8fa9103e-f357-42bf-d880-680294b06733"
      },
      "execution_count": 1,
      "outputs": [
        {
          "output_type": "stream",
          "name": "stdout",
          "text": [
            "Requirement already satisfied: tweepy in /usr/local/lib/python3.7/dist-packages (4.8.0)\n",
            "Requirement already satisfied: requests<3,>=2.27.0 in /usr/local/lib/python3.7/dist-packages (from tweepy) (2.27.1)\n",
            "Requirement already satisfied: oauthlib<4,>=3.2.0 in /usr/local/lib/python3.7/dist-packages (from tweepy) (3.2.0)\n",
            "Requirement already satisfied: requests-oauthlib<2,>=1.2.0 in /usr/local/lib/python3.7/dist-packages (from tweepy) (1.3.1)\n",
            "Requirement already satisfied: idna<4,>=2.5 in /usr/local/lib/python3.7/dist-packages (from requests<3,>=2.27.0->tweepy) (2.10)\n",
            "Requirement already satisfied: urllib3<1.27,>=1.21.1 in /usr/local/lib/python3.7/dist-packages (from requests<3,>=2.27.0->tweepy) (1.24.3)\n",
            "Requirement already satisfied: certifi>=2017.4.17 in /usr/local/lib/python3.7/dist-packages (from requests<3,>=2.27.0->tweepy) (2021.10.8)\n",
            "Requirement already satisfied: charset-normalizer~=2.0.0 in /usr/local/lib/python3.7/dist-packages (from requests<3,>=2.27.0->tweepy) (2.0.12)\n"
          ]
        }
      ]
    },
    {
      "cell_type": "code",
      "source": [
        "import tweepy"
      ],
      "metadata": {
        "id": "uOqQHns8Lq6t"
      },
      "execution_count": 2,
      "outputs": []
    },
    {
      "cell_type": "markdown",
      "source": [
        "[Twitter Developer Portal Projects & Apps page](https://developer.twitter.com/en/portal/projects-and-apps)"
      ],
      "metadata": {
        "id": "myquuK8hrmAz"
      }
    },
    {
      "cell_type": "code",
      "source": [
        "bearer_token = \"\"\n",
        "\n",
        "consumer_key = \"\"\n",
        "consumer_secret = \"\"\n",
        "\n",
        "access_token = \"\"\n",
        "access_token_secret = \"\""
      ],
      "metadata": {
        "id": "ieeasQnbyytW"
      },
      "execution_count": 3,
      "outputs": []
    },
    {
      "cell_type": "code",
      "source": [
        "client = tweepy.Client(bearer_token = bearer_token)\n",
        "\n",
        "'''\n",
        "client = tweepy.Client(\n",
        "    consumer_key=consumer_key, consumer_secret=consumer_secret,\n",
        "    access_token=access_token, access_token_secret=access_token_secret\n",
        ")\n",
        "'''"
      ],
      "metadata": {
        "id": "yy2cQp5-IT1T",
        "colab": {
          "base_uri": "https://localhost:8080/",
          "height": 53
        },
        "outputId": "ef045504-282f-490c-e49c-f332e37395ba"
      },
      "execution_count": 4,
      "outputs": [
        {
          "output_type": "execute_result",
          "data": {
            "text/plain": [
              "'\\nclient = tweepy.Client(\\n    consumer_key=consumer_key, consumer_secret=consumer_secret,\\n    access_token=access_token, access_token_secret=access_token_secret\\n)\\n'"
            ],
            "application/vnd.google.colaboratory.intrinsic+json": {
              "type": "string"
            }
          },
          "metadata": {},
          "execution_count": 4
        }
      ]
    },
    {
      "cell_type": "code",
      "source": [
        "userID = 2244994945\n",
        "tweetID = 1460323737035677698"
      ],
      "metadata": {
        "id": "ngcwzzvuKgM8"
      },
      "execution_count": 5,
      "outputs": []
    },
    {
      "cell_type": "markdown",
      "source": [
        "### Get user's mentions"
      ],
      "metadata": {
        "id": "EZsCtW80KFp8"
      }
    },
    {
      "cell_type": "code",
      "source": [
        "response = client.get_users_mentions(userID)\n",
        "\n",
        "for tweet in response.data:\n",
        "    print(tweet.id)\n",
        "    print(tweet.text)\n",
        "    print(\"\\n\")\n",
        "\n",
        "response = client.get_users_mentions(userID, max_results = 100)"
      ],
      "metadata": {
        "colab": {
          "base_uri": "https://localhost:8080/"
        },
        "id": "v4WoiZTAKE2p",
        "outputId": "57243124-4945-43d0-986c-054c2865670e"
      },
      "execution_count": 6,
      "outputs": [
        {
          "output_type": "stream",
          "name": "stdout",
          "text": [
            "1515359128717504513\n",
            "HOLY FKING SHIT GUYS \n",
            "\n",
            "SPAM TAGGING BOTS OUTTA CONTROL \n",
            "\n",
            "@TwitterSupport @TwitterDesign @Twitter @TwitterDev @paraga PLS PLS PLS GET RID OF THESE\n",
            "\n",
            "\n",
            "1515305950290268169\n",
            "@elonmusk don’t buy @TwitterDev , you can comfortably buy Ugandan with $43 bn , then turn parliament into a zoo.\n",
            "I can brokerage the deal for you .\n",
            "\n",
            "\n",
            "1515277431774621697\n",
            "Why does Twitter tie a developer account to just one username? I want to make bots on other usernames not my main account but my developer account is tied to only my main Twitter account. And I can’t add another username to it. @TwitterDev @TwitterAPI\n",
            "\n",
            "\n",
            "1515148112985264132\n",
            "@Twitter needs a cleanup, @elonmusk's the man to do it. @MorganStanley @paraga @TwitterSupport @TwitterComms @TwitterDev @TwitterEng @TwitterMktg @TwitterBlue @TwitterCanada @CanadaMoments @GoldmanSachs @CdnPressNews @Canoe @AP @Reuters #ElonMusk #Twitter https://t.co/WtZcDADzRk\n",
            "\n",
            "\n",
            "1515134925975998468\n",
            "@Twitter needs a cleanup, @elonmusk's the man to do it. @MorganStanley @TwitterSupport @TwitterComms @TwitterDev @TwitterEng @TwitterMktg @TwitterBlue @TwitterCanada @CanadaMoments @GoldmanSachs @CdnPressNews @Canoe @AP @Reuters @BBCNews #ElonMusk #Twitter https://t.co/WtZcDADzRk\n",
            "\n",
            "\n",
            "1515061190124355590\n",
            "I remember this guy… @TwitterDev back in the day… #magician   👏🏻 https://t.co/SZQOBAwnAF\n",
            "\n",
            "\n",
            "1514998962389925888\n",
            "Just spotted ⬇️ for comments by @TwitterDev .\n",
            "Let’s try out 🙌🙌😁\n",
            "\n",
            "\n",
            "1514982988811018247\n",
            "@TwitterDev approves no one for the elevated API access. The community should put their efforts on building an open-source version of their API using something like #Puppeteer. [1] https://t.co/AtWTMlFl3C\n",
            "\n",
            "\n",
            "1514977227662061579\n",
            "ICYMI: Feature suggestion for Twitter, News Diversity.. @TwitterDev @elonmusk https://t.co/A7rUyZcYOp\n",
            "\n",
            "\n"
          ]
        }
      ]
    },
    {
      "cell_type": "markdown",
      "source": [
        "### Get user's tweets"
      ],
      "metadata": {
        "id": "hsrXTDeDJSk5"
      }
    },
    {
      "cell_type": "code",
      "source": [
        "response = client.get_users_tweets(userID)\n",
        "\n",
        "for tweet in response.data:\n",
        "    print(tweet.id)\n",
        "    print(tweet.text)\n",
        "    print(\"\\n\")\n",
        "\n",
        "response = client.get_users_tweets(userID, max_results = 100)"
      ],
      "metadata": {
        "colab": {
          "base_uri": "https://localhost:8080/"
        },
        "id": "eurO1KGdJR6M",
        "outputId": "0a20ab40-e7c7-4160-9fab-886c8c9a520d"
      },
      "execution_count": 7,
      "outputs": [
        {
          "output_type": "stream",
          "name": "stdout",
          "text": [
            "1514273313039675392\n",
            "Are you interested in learning how this innovative index leverages $cashtag Tweets to reflect how the world’s largest focus group is talking about publicly traded companies? \n",
            "\n",
            "https://t.co/uiPisid4HY\n",
            "\n",
            "\n",
            "1514273129329139712\n",
            "In Q1, the S&amp;P 500 Twitter Sentiment Select Equal Weight Index outperformed its benchmark by 173 bps \n",
            "\n",
            "The S&amp;P 500 Equal Weight Index declined by 2.72%, while the S&amp;P 500 Twitter Sentiment Select Equal Weight Index declined by 0.99% https://t.co/gXdIm4qWHj\n",
            "\n",
            "\n",
            "1514272950219804673\n",
            "In Q1, the S&amp;P 500 Twitter Sentiment Index outperformed its benchmark by 72 bps \n",
            "\n",
            "The S&amp;P 500 Index declined by 4.60%, while the S&amp;P 500 Twitter Sentiment Index declined by 3.88% https://t.co/BJQ1LKa3OV\n",
            "\n",
            "\n",
            "1514272830610759680\n",
            "In Q1, volatility returned to the stock market, but #YourVoiceYourIndex was heard loud and clear. \n",
            "\n",
            "We’d like to share some updates on the vibrant $cashtag conversation on Twitter, and how your Tweets helped S&amp;P Dow Jones power two stock market indices👇\n",
            "\n",
            "\n",
            "1514272664373760002\n",
            "Last year, Twitter partnered with S&amp;P Dow Jones Indices, to launch a series of indices that tracks the most positively-talked about companies in the S&amp;P 500 Index.\n",
            "\n",
            "https://t.co/vdrOXLvCTY\n",
            "\n",
            "\n",
            "1513562834243784705\n",
            "🔔 Are you interested in using the Twitter API to teach in your course? Join us tomorrow April 12th at 10 am PT to learn how educators teach with the Twitter API and how you can incorporate it in your course! 📚⤵️ https://t.co/7B9Iy2ENEC\n",
            "\n",
            "\n",
            "1512165222001246208\n",
            "Surface Crypto insights from Twitter data, quickly &amp; easily, with the Twitter API toolkit for Google Cloud: Filtered Stream - a toolkit for real-time ingesting, processing, &amp; analyzing large volumes of Tweets that can be configured in under 60 mins ⬇️\n",
            "https://t.co/YzrWrB4Xa5\n",
            "\n",
            "\n",
            "1511757922354663425\n",
            "Looking to try out the Twitter API v2 but don’t have a developer account yet? Check out the new Twitter API Playground. This new tool delivers real, live data from the Twitter API for anyone curious about our platform.\n",
            "\n",
            "Learn more ⬇️\n",
            "https://t.co/p0N21UAKZG\n",
            "\n",
            "\n",
            "1509259456525193221\n",
            "📢 Learn how you can get historical Twitter data for research using our new Downloader tool without writing any code.\n",
            "\n",
            "Join us tomorrow at 2pm PT on ➡️ https://t.co/GrtBOXh5Y1 https://t.co/uXOgMNLMry\n",
            "\n",
            "\n",
            "1508565972147326977\n",
            "Join @andypiper and team this Wednesday for the last installment of our developer Spaces series on custom Tweet card formats.\n",
            "\n",
            "https://t.co/WqsF8hEBSs\n",
            "\n",
            "\n"
          ]
        }
      ]
    },
    {
      "cell_type": "markdown",
      "source": [
        "### Get tweet's retweeters"
      ],
      "metadata": {
        "id": "Q5YBZhEuI5Ux"
      }
    },
    {
      "cell_type": "code",
      "source": [
        "response = client.get_retweeters(tweetID, user_fields = [\"profile_image_url\"])\n",
        "\n",
        "for user in response.data:\n",
        "    print(user.username, user.profile_image_url)"
      ],
      "metadata": {
        "colab": {
          "base_uri": "https://localhost:8080/"
        },
        "id": "mRcdesR8Iu-k",
        "outputId": "8c2d28f3-1cfb-4e52-82dc-0bd4f5c1d749"
      },
      "execution_count": 8,
      "outputs": [
        {
          "output_type": "stream",
          "name": "stdout",
          "text": [
            "MaxS7ar https://pbs.twimg.com/profile_images/1515035944830832647/rYkzqMwL_normal.jpg\n",
            "khsiddiqui1979 https://pbs.twimg.com/profile_images/1484354052951461890/XJ7RvqTc_normal.jpg\n",
            "serh_09 https://pbs.twimg.com/profile_images/1514675360243273732/flsTuAwx_normal.jpg\n",
            "SarahRo69694569 https://pbs.twimg.com/profile_images/1511747583634558984/cDDNcxnv_normal.jpg\n",
            "Micheal17587959 https://pbs.twimg.com/profile_images/1512104643299524621/Fftc9mKq_normal.jpg\n",
            "GIGACHAD2021 https://pbs.twimg.com/profile_images/1502351706755117063/KbRXBa81_normal.jpg\n",
            "AndrewNation13 https://pbs.twimg.com/profile_images/1510654726483812354/abbDSpYl_normal.jpg\n",
            "anteliznet https://pbs.twimg.com/profile_images/1439944719275016195/ObCH3ouS_normal.jpg\n",
            "gkiyer12345 https://pbs.twimg.com/profile_images/1191398275821142017/mQOm3tLP_normal.jpg\n",
            "AMommoh https://pbs.twimg.com/profile_images/1492333420155973633/7rFL_2bW_normal.png\n",
            "PoloPanda5 https://pbs.twimg.com/profile_images/1495959455967576067/ogIRI2Iy_normal.jpg\n",
            "Gardok112 https://pbs.twimg.com/profile_images/1512857666422460422/3NvsWsCa_normal.jpg\n",
            "jedi_roid https://pbs.twimg.com/profile_images/1030688211486425088/1eGdtiXt_normal.jpg\n",
            "asha__yasha https://pbs.twimg.com/profile_images/1311703025094815744/M1S6EaY7_normal.jpg\n",
            "GlendyPowa https://pbs.twimg.com/profile_images/1501171115867406340/FvUWLf2__normal.png\n",
            "McmoneyMoni https://pbs.twimg.com/profile_images/1339018763316899842/Z3MkBDok_normal.jpg\n",
            "Aryxon3 https://pbs.twimg.com/profile_images/1478409927991316481/tAQ0ksc7_normal.jpg\n",
            "1Modelhub https://pbs.twimg.com/profile_images/1499923465834577920/JmMz6QUO_normal.jpg\n",
            "STURANUS6666 https://pbs.twimg.com/profile_images/1499392582668865538/kb3mLkpf_normal.jpg\n",
            "annmchugh17 https://pbs.twimg.com/profile_images/1450166007864115206/YRGOaYX8_normal.png\n",
            "S28745000Morgan https://pbs.twimg.com/profile_images/1498053609086500867/haOVdD5E_normal.jpg\n",
            "AshleyYMoore13 https://pbs.twimg.com/profile_images/1291613729726095362/082sIfoi_normal.jpg\n",
            "Brittany_Long30 https://pbs.twimg.com/profile_images/1230378896949960705/3WAgUS0i_normal.jpg\n",
            "DanaXBrown58 https://pbs.twimg.com/profile_images/1239054494119403521/MAdfRpoj_normal.jpg\n",
            "ToriWYoung20 https://pbs.twimg.com/profile_images/1267633027179560960/WP-NRO4b_normal.jpg\n",
            "Faiagerasimov52 https://pbs.twimg.com/profile_images/1215814016813191168/F2z7bvw__normal.jpg\n",
            "JuliusAyoola1 https://pbs.twimg.com/profile_images/1499843037605867527/P_GZGAbw_normal.jpg\n",
            "KimWhite39 https://pbs.twimg.com/profile_images/1224932371369250816/NoeL5JPO_normal.jpg\n",
            "Michaelfg76 https://pbs.twimg.com/profile_images/1480236084353060865/loIRh0Am_normal.jpg\n",
            "NataliiaNikol51 https://pbs.twimg.com/profile_images/1215819120991768576/II5JJUOD_normal.jpg\n",
            "KeithKeller https://pbs.twimg.com/profile_images/1318415522900316161/NwTi2ZPh_normal.jpg\n",
            "verissimohenry https://pbs.twimg.com/profile_images/1415244162274836481/sdqyb2Pl_normal.jpg\n",
            "leanneocampo02 https://pbs.twimg.com/profile_images/1261780913479987201/2nziGdbO_normal.jpg\n",
            "SamanthaWHarr47 https://pbs.twimg.com/profile_images/1239059907007205377/8te1JCh8_normal.jpg\n",
            "Andy68140 https://pbs.twimg.com/profile_images/1501426563891482624/BSUqaZ1K_normal.jpg\n",
            "MissyThiry49 https://pbs.twimg.com/profile_images/1239054954947645440/oA_m5FTN_normal.jpg\n",
            "ViolaSt63474057 https://pbs.twimg.com/profile_images/1486599381088415744/jBfjbLQ__normal.jpg\n",
            "KaylaWThomas25 https://abs.twimg.com/sticky/default_profile_images/default_profile_normal.png\n",
            "OkunugaAminat https://pbs.twimg.com/profile_images/1351912498044268548/ah72MG4b_normal.jpg\n",
            "AnneliseRanna https://pbs.twimg.com/profile_images/1485178496502665219/oor1auLm_normal.jpg\n",
            "AOmiaoxianxian https://pbs.twimg.com/profile_images/1485122007398326273/sudI0LE7_normal.jpg\n",
            "avril_marla https://pbs.twimg.com/profile_images/1484872651457937412/fWXOojdj_normal.jpg\n"
          ]
        }
      ]
    },
    {
      "cell_type": "markdown",
      "source": [
        "### Get tweet's liking users"
      ],
      "metadata": {
        "id": "5PWP1vaaLJOn"
      }
    },
    {
      "cell_type": "code",
      "source": [
        "response = client.get_liking_users(tweetID, user_fields=[\"profile_image_url\"])\n",
        "\n",
        "for user in response.data:\n",
        "    print(user.username, user.profile_image_url)"
      ],
      "metadata": {
        "colab": {
          "base_uri": "https://localhost:8080/"
        },
        "id": "nBQFKLf3LGpX",
        "outputId": "0ca7c08c-695a-49b7-d0af-0130822bdbd0"
      },
      "execution_count": 9,
      "outputs": [
        {
          "output_type": "stream",
          "name": "stdout",
          "text": [
            "MaxS7ar https://pbs.twimg.com/profile_images/1515035944830832647/rYkzqMwL_normal.jpg\n",
            "khsiddiqui1979 https://pbs.twimg.com/profile_images/1484354052951461890/XJ7RvqTc_normal.jpg\n",
            "serh_09 https://pbs.twimg.com/profile_images/1514675360243273732/flsTuAwx_normal.jpg\n",
            "mr_boss_manu https://pbs.twimg.com/profile_images/1390247323662393345/8MxPzVaQ_normal.jpg\n",
            "yongwilliam289 https://pbs.twimg.com/profile_images/1511166501457653766/eaF-L4jS_normal.png\n",
            "MarkizTheDemon https://pbs.twimg.com/profile_images/1486498154639933448/AuDOZwQD_normal.jpg\n",
            "shuracoolikoff https://pbs.twimg.com/profile_images/1504467395296915463/D3_-x1wG_normal.jpg\n",
            "GIGACHAD2021 https://pbs.twimg.com/profile_images/1502351706755117063/KbRXBa81_normal.jpg\n",
            "anteliznet https://pbs.twimg.com/profile_images/1439944719275016195/ObCH3ouS_normal.jpg\n",
            "miscouform0 https://pbs.twimg.com/profile_images/1162617743486717952/VnR3tpq-_normal.jpg\n",
            "AMommoh https://pbs.twimg.com/profile_images/1492333420155973633/7rFL_2bW_normal.png\n",
            "NhanNgu96065938 https://pbs.twimg.com/profile_images/1509569246556086279/BxpCCE7q_normal.jpg\n",
            "imadking2020 https://pbs.twimg.com/profile_images/1448840550233346051/T2-1v67d_normal.jpg\n",
            "imadkalhi https://pbs.twimg.com/profile_images/1512620528837984263/Bxl_tfT3_normal.jpg\n",
            "Sbama_belle23 https://pbs.twimg.com/profile_images/1458386355134808065/c8VdexF8_normal.jpg\n",
            "Gardok112 https://pbs.twimg.com/profile_images/1512857666422460422/3NvsWsCa_normal.jpg\n",
            "AslaamNgaar https://pbs.twimg.com/profile_images/1441284934786637828/p_pHIw1Z_normal.jpg\n",
            "hmiXok https://pbs.twimg.com/profile_images/1506454890914402308/VDVNGRpx_normal.jpg\n",
            "PoloPanda5 https://pbs.twimg.com/profile_images/1495959455967576067/ogIRI2Iy_normal.jpg\n",
            "SaiMeenu6 https://pbs.twimg.com/profile_images/1474257143859597313/45GdZb73_normal.jpg\n",
            "robertsmeske https://pbs.twimg.com/profile_images/1349485138682523657/ousOj3ub_normal.jpg\n",
            "mtwn105 https://pbs.twimg.com/profile_images/1264075348532060160/mLlY1c71_normal.jpg\n",
            "laurotc https://pbs.twimg.com/profile_images/1150878604529733632/OCsiNxJG_normal.jpg\n",
            "WolfgangKarche5 https://pbs.twimg.com/profile_images/1479053081144868864/8oDNmAY7_normal.png\n",
            "bidewtips https://pbs.twimg.com/profile_images/1506339583637835787/IqDl2x1c_normal.png\n",
            "AgbajeCity https://pbs.twimg.com/profile_images/1372638708122464262/Ji6yFAiT_normal.jpg\n",
            "jedi_roid https://pbs.twimg.com/profile_images/1030688211486425088/1eGdtiXt_normal.jpg\n",
            "BiBong88 https://pbs.twimg.com/profile_images/1466067623322423300/9YihUIMG_normal.jpg\n",
            "sainventor6 https://pbs.twimg.com/profile_images/1515043954185670659/e2Zatmod_normal.jpg\n",
            "palomo_candido https://pbs.twimg.com/profile_images/1504988884790398976/1wCet0F3_normal.jpg\n",
            "AussieAsch https://pbs.twimg.com/profile_images/1057273641728040961/EdgT5j51_normal.jpg\n",
            "cruukz https://pbs.twimg.com/profile_images/1507182255420157961/H4KCCIj7_normal.jpg\n",
            "whimchic https://pbs.twimg.com/profile_images/799038275033960448/mFl_8rdM_normal.jpg\n",
            "AndrewNation13 https://pbs.twimg.com/profile_images/1510654726483812354/abbDSpYl_normal.jpg\n",
            "Ahmetzt41783657 https://pbs.twimg.com/profile_images/1503824763000692741/jgmKOEqH_normal.jpg\n",
            "josipmand https://pbs.twimg.com/profile_images/1284848222314389507/fcEAbcVU_normal.jpg\n",
            "IncMedium \n",
            "FelloCastillo1 https://pbs.twimg.com/profile_images/1499509054204428303/ETILqZqa_normal.png\n",
            "McmoneyMoni https://pbs.twimg.com/profile_images/1339018763316899842/Z3MkBDok_normal.jpg\n",
            "WaelAlfhydy https://pbs.twimg.com/profile_images/1499149973207801866/kGCCCAuq_normal.jpg\n",
            "Shahnam1365 https://pbs.twimg.com/profile_images/808942784564445184/uCLnv5EG_normal.jpg\n",
            "alqadywlyd43 https://pbs.twimg.com/profile_images/1422951312015216644/tpQDkgUC_normal.jpg\n",
            "alii2853 https://pbs.twimg.com/profile_images/1497671167334830083/OSn-CtmR_normal.jpg\n",
            "Jefinafita17 https://pbs.twimg.com/profile_images/1501949703121825793/5U0oVieY_normal.jpg\n",
            "Aryxon3 https://pbs.twimg.com/profile_images/1478409927991316481/tAQ0ksc7_normal.jpg\n",
            "sadamnalamin https://pbs.twimg.com/profile_images/1494204887126749184/Xf2ImeaQ_normal.jpg\n",
            "HaticeDenizAVCI https://pbs.twimg.com/profile_images/1513082396480057348/KHrhdihl_normal.jpg\n",
            "Eli_Krumova https://pbs.twimg.com/profile_images/1361638888427683840/HqNlplM__normal.jpg\n",
            "hural_lvs https://pbs.twimg.com/profile_images/1393554027590336518/bchT-VJZ_normal.jpg\n",
            "ddudacostaa https://pbs.twimg.com/profile_images/1297641363144609792/_M91iVmy_normal.jpg\n",
            "ahballahalrahma https://pbs.twimg.com/profile_images/1250885613252902919/RH2lr561_normal.jpg\n",
            "1Modelhub https://pbs.twimg.com/profile_images/1499923465834577920/JmMz6QUO_normal.jpg\n",
            "2Cool2Q_app https://pbs.twimg.com/profile_images/1443546650954317826/4McvmyuX_normal.png\n",
            "alt_pod https://pbs.twimg.com/profile_images/1514537174376775681/6Zpzjj3A_normal.jpg\n",
            "Hetendra3 https://abs.twimg.com/sticky/default_profile_images/default_profile_normal.png\n",
            "Itsnatixo1 https://abs.twimg.com/sticky/default_profile_images/default_profile_normal.png\n",
            "Wiirdo1 https://pbs.twimg.com/profile_images/1485889355088637958/ymsGYcek_normal.jpg\n",
            "mladenkosmiko https://pbs.twimg.com/profile_images/1427064105823784963/I5F2_k9L_normal.png\n",
            "mtnjhn https://pbs.twimg.com/profile_images/459123774768418816/ThAfSk9N_normal.jpeg\n",
            "doghmane0790972 https://pbs.twimg.com/profile_images/1478781642508484613/6q7XBGCK_normal.jpg\n",
            "dennisyu https://pbs.twimg.com/profile_images/1432349277620031500/GRF6TzyE_normal.jpg\n",
            "Da1NOnlyLilMama https://pbs.twimg.com/profile_images/1494925600330596352/CSfZyvfa_normal.jpg\n",
            "Karinagrigore36 https://pbs.twimg.com/profile_images/1215811316021104641/tzh_cLDe_normal.jpg\n",
            "honestyB21 https://pbs.twimg.com/profile_images/1506715646138241035/9qSHDTCs_normal.jpg\n",
            "drchiomaviolet https://pbs.twimg.com/profile_images/1509694417350930444/nTKmACIY_normal.jpg\n",
            "xabier https://pbs.twimg.com/profile_images/1179876849939369984/28_BFY-1_normal.jpg\n",
            "Kimberly_Tran07 https://pbs.twimg.com/profile_images/1261779907996258304/ZAoRvR6i_normal.jpg\n",
            "phoenixislol https://pbs.twimg.com/profile_images/1492115974837116930/ult38Sq2_normal.jpg\n",
            "zc_gj8 https://pbs.twimg.com/profile_images/1391530955597246468/1lrSnTeH_normal.jpg\n",
            "wadsif73 https://pbs.twimg.com/profile_images/1330008308988698624/XYC7r7D3_normal.jpg\n",
            "fifivalentin03 https://pbs.twimg.com/profile_images/1239058220183928832/hZ_s_pB3_normal.jpg\n",
            "bizblognews https://pbs.twimg.com/profile_images/1437507159516872704/jrf8Ia1e_normal.jpg\n",
            "AdamLMore https://pbs.twimg.com/profile_images/1223030231251877888/rXcRdIJJ_normal.jpg\n",
            "AshleyXHall59 https://pbs.twimg.com/profile_images/1291613028019064833/obPP3bLT_normal.jpg\n",
            "BotOfHoroscope https://pbs.twimg.com/profile_images/1491694772599373829/GGUWeb7e_normal.png\n",
            "FisrtPerson https://pbs.twimg.com/profile_images/1493931763017658370/FFpwD6zF_normal.jpg\n",
            "MARELLACHANDRA6 https://pbs.twimg.com/profile_images/1512792892837871628/ywUfr1AH_normal.jpg\n",
            "AnnaKihlstromSE https://pbs.twimg.com/profile_images/1510644926639452166/CmVQ11Mm_normal.jpg\n",
            "ma_hd6 https://pbs.twimg.com/profile_images/1450439666541506560/c0OHwzQM_normal.jpg\n",
            "MartinJrPeter https://abs.twimg.com/sticky/default_profile_images/default_profile_normal.png\n",
            "katrinapeders28 https://pbs.twimg.com/profile_images/1261773002234105856/X93KyZfj_normal.jpg\n",
            "ElizabethXEva16 https://pbs.twimg.com/profile_images/1239062893091606528/1Pw7Bjex_normal.jpg\n",
            "alanbenlee https://pbs.twimg.com/profile_images/1387139300253331460/ANY4FIqw_normal.jpg\n",
            "JuliusAyoola1 https://pbs.twimg.com/profile_images/1499843037605867527/P_GZGAbw_normal.jpg\n",
            "JulieVClark36 https://pbs.twimg.com/profile_images/1261780591281868802/G_NolK5F_normal.jpg\n",
            "sukracarya3 https://pbs.twimg.com/profile_images/1487169852057931776/jBtub02t_normal.jpg\n"
          ]
        }
      ]
    }
  ]
}